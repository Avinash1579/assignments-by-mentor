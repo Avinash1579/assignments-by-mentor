{
  "cells": [
    {
      "cell_type": "markdown",
      "metadata": {
        "id": "view-in-github",
        "colab_type": "text"
      },
      "source": [
        "<a href=\"https://colab.research.google.com/github/Avinash1579/assignments-by-mentor/blob/main/Python%20Assignment%206.ipynb\" target=\"_parent\"><img src=\"https://colab.research.google.com/assets/colab-badge.svg\" alt=\"Open In Colab\"/></a>"
      ]
    },
    {
      "cell_type": "markdown",
      "id": "161967df-e6f5-4306-8ec6-6f0f8b1c14f6",
      "metadata": {
        "id": "161967df-e6f5-4306-8ec6-6f0f8b1c14f6"
      },
      "source": [
        "# 📖 Story Continuation: The Duplicate Entries Mystery!\n",
        "## The coding competition is over, but now there's another problem! The event organizers noticed that some students were accidentally registered multiple times, and some students were missing from the final list of participants.\n",
        "\n",
        "### Principal Williams calls the Tech Club again! Alex, Mia, and Jake must use Python sets to clean up the participant data and ensure every student's participation is properly recorded.\n",
        "\n",
        "#### 🔢 Python Set Challenges\n",
        "##### Each challenge is a real-world problem the Tech Club needs to solve using Python sets.\n",
        "\n",
        "#### 1️⃣ Creating a Set of Participants\n",
        "##### The student registration system recorded duplicate entries. Convert the list of participants into a set to remove duplicates.\n",
        "**participants = [\"Alice\", \"Bob\", \"Charlie\", \"Alice\", \"David\", \"Charlie\", \"Eve\"]**\n"
      ]
    },
    {
      "cell_type": "code",
      "execution_count": 1,
      "id": "dbd179bf-92e1-4b78-b951-7a2cc9ecb577",
      "metadata": {
        "id": "dbd179bf-92e1-4b78-b951-7a2cc9ecb577",
        "outputId": "b9b9917c-debb-4e7f-9272-7aa0527f807b",
        "colab": {
          "base_uri": "https://localhost:8080/"
        }
      },
      "outputs": [
        {
          "output_type": "stream",
          "name": "stdout",
          "text": [
            "{'Eve', 'Charlie', 'Alice', 'Bob', 'David'}\n"
          ]
        }
      ],
      "source": [
        "a = [\"Alice\", \"Bob\", \"Charlie\", \"Alice\", \"David\", \"Charlie\", \"Eve\"]\n",
        "b = set(a)\n",
        "print(b)"
      ]
    },
    {
      "cell_type": "markdown",
      "id": "20707837-1bf5-42bf-b3b5-75ec100f50f4",
      "metadata": {
        "id": "20707837-1bf5-42bf-b3b5-75ec100f50f4"
      },
      "source": [
        "#### 2️⃣ Adding a Late Entry\n",
        "##### Emma was accidentally left out. Add \"Emma\" to the set.\n"
      ]
    },
    {
      "cell_type": "code",
      "execution_count": 2,
      "id": "e9d9259c-15c6-469d-bbef-f63683958ddc",
      "metadata": {
        "id": "e9d9259c-15c6-469d-bbef-f63683958ddc",
        "outputId": "c3f5e297-dd7d-4d6c-85ae-912e55383d20",
        "colab": {
          "base_uri": "https://localhost:8080/"
        }
      },
      "outputs": [
        {
          "output_type": "stream",
          "name": "stdout",
          "text": [
            "{'Eve', 'emma', 'Charlie', 'Alice', 'Bob', 'David'}\n"
          ]
        }
      ],
      "source": [
        "a = {'Eve', 'Charlie', 'Alice', 'Bob', 'David'}\n",
        "b = list(set(a))\n",
        "b.append('emma')\n",
        "c = set(b)\n",
        "print(c)"
      ]
    },
    {
      "cell_type": "markdown",
      "id": "2b4bd20c-1898-40ce-919a-5f0f0aeb1526",
      "metadata": {
        "id": "2b4bd20c-1898-40ce-919a-5f0f0aeb1526"
      },
      "source": [
        "#### 3️⃣ Removing a Participant\n",
        "##### Bob couldn't attend the competition. Remove \"Bob\" from the set.\n"
      ]
    },
    {
      "cell_type": "code",
      "execution_count": 4,
      "id": "983d155e-c6cf-4eb7-89b2-49fe497920c0",
      "metadata": {
        "id": "983d155e-c6cf-4eb7-89b2-49fe497920c0",
        "outputId": "642f019b-deb9-4aae-d439-7e3e3ceb7f99",
        "colab": {
          "base_uri": "https://localhost:8080/"
        }
      },
      "outputs": [
        {
          "output_type": "stream",
          "name": "stdout",
          "text": [
            "{'Alice', 'Eve', 'David', 'Charlie'}\n"
          ]
        }
      ],
      "source": [
        "a = {'Eve', 'Charlie', 'Alice', 'Bob', 'David'}\n",
        "b = list(set(a))\n",
        "index = b.index('Bob')\n",
        "del b[index]\n",
        "c = set(b)\n",
        "print(c)"
      ]
    },
    {
      "cell_type": "markdown",
      "id": "b93bd648-a575-49bb-9f9b-8568350c9fb9",
      "metadata": {
        "id": "b93bd648-a575-49bb-9f9b-8568350c9fb9"
      },
      "source": [
        "#### 4️⃣ Checking for a Student\n",
        "##### Check if \"Alice\" participated in the competition.\n"
      ]
    },
    {
      "cell_type": "code",
      "execution_count": 5,
      "id": "483e9b49-fe69-4bb9-910a-bb00aa480b78",
      "metadata": {
        "id": "483e9b49-fe69-4bb9-910a-bb00aa480b78",
        "outputId": "9571707d-d016-4582-96e5-3cc51992629b",
        "colab": {
          "base_uri": "https://localhost:8080/"
        }
      },
      "outputs": [
        {
          "output_type": "stream",
          "name": "stdout",
          "text": [
            "Alise participated in the competition \n"
          ]
        }
      ],
      "source": [
        "a = {'Eve', 'Charlie', 'Alice', 'Bob', 'David'}\n",
        "b = list(set(a))\n",
        "if \"Alice\" in b:\n",
        "  print(\"Alise participated in the competition \")\n",
        "else:\n",
        "  print(\"Alise didn't participated in the competition \")"
      ]
    },
    {
      "cell_type": "markdown",
      "id": "bdde20ba-6c63-42da-9e7f-a5ec008c017e",
      "metadata": {
        "id": "bdde20ba-6c63-42da-9e7f-a5ec008c017e"
      },
      "source": [
        "#### 5️⃣ Finding Common Participants\n",
        "##### The school hosted another AI challenge. Find students who participated in both competitions.\n",
        "**coding_competition = {\"Alice\", \"Charlie\", \"David\", \"Eve\"}**\n",
        "\n",
        "**ai_challenge = {\"Charlie\", \"David\", \"Frank\", \"Grace\"}**\n"
      ]
    },
    {
      "cell_type": "code",
      "source": [
        "coding_competition = {\"Alice\", \"Charlie\", \"David\", \"Eve\"}\n",
        "ai_challenge = {\"Charlie\", \"David\", \"Frank\", \"Grace\"}\n",
        "a = coding_competition.intersection(ai_challenge)\n",
        "print(a)"
      ],
      "metadata": {
        "id": "htHf9PTkfYEM",
        "outputId": "5523a731-4934-4890-da4f-f26a8606b130",
        "colab": {
          "base_uri": "https://localhost:8080/"
        }
      },
      "id": "htHf9PTkfYEM",
      "execution_count": 6,
      "outputs": [
        {
          "output_type": "stream",
          "name": "stdout",
          "text": [
            "{'David', 'Charlie'}\n"
          ]
        }
      ]
    },
    {
      "cell_type": "markdown",
      "id": "85fd7993-4f30-42cc-a696-616f5693e336",
      "metadata": {
        "id": "85fd7993-4f30-42cc-a696-616f5693e336"
      },
      "source": [
        "#### 6️⃣ Finding Unique Participants\n",
        "##### Find students who only participated in the coding competition.\n"
      ]
    },
    {
      "cell_type": "code",
      "execution_count": 7,
      "id": "f9831061-cf8d-40d5-b6a6-1bea7604a59f",
      "metadata": {
        "id": "f9831061-cf8d-40d5-b6a6-1bea7604a59f",
        "outputId": "b76d0545-3412-4ae5-bbfd-b264eedb3115",
        "colab": {
          "base_uri": "https://localhost:8080/"
        }
      },
      "outputs": [
        {
          "output_type": "stream",
          "name": "stdout",
          "text": [
            "{'Alice', 'Eve'}\n"
          ]
        }
      ],
      "source": [
        "coding_competition = {\"Alice\", \"Charlie\", \"David\", \"Eve\"}\n",
        "ai_challenge = {\"Charlie\", \"David\", \"Frank\", \"Grace\"}\n",
        "a = coding_competition.difference(ai_challenge)\n",
        "print(a)"
      ]
    },
    {
      "cell_type": "markdown",
      "id": "8b0aa95f-2861-4ccd-97c2-e247e776dfcf",
      "metadata": {
        "id": "8b0aa95f-2861-4ccd-97c2-e247e776dfcf"
      },
      "source": [
        "#### 7️⃣ Finding All Participants\n",
        "##### Get a list of all unique participants from both competitions.\n"
      ]
    },
    {
      "cell_type": "code",
      "execution_count": 8,
      "id": "8ae2d475-03a5-452a-9dc4-979cf8904b51",
      "metadata": {
        "id": "8ae2d475-03a5-452a-9dc4-979cf8904b51",
        "outputId": "300db055-079d-4ab8-8e1c-53337a39ef3c",
        "colab": {
          "base_uri": "https://localhost:8080/"
        }
      },
      "outputs": [
        {
          "output_type": "stream",
          "name": "stdout",
          "text": [
            "{'Eve', 'Charlie', 'Frank', 'Grace', 'Alice', 'David'}\n"
          ]
        }
      ],
      "source": [
        "coding_competition = {\"Alice\", \"Charlie\", \"David\", \"Eve\"}\n",
        "ai_challenge = {\"Charlie\", \"David\", \"Frank\", \"Grace\"}\n",
        "a = coding_competition.union(ai_challenge)\n",
        "print(a)"
      ]
    },
    {
      "cell_type": "markdown",
      "id": "6d5d0645-e928-4810-a477-340e9e482d98",
      "metadata": {
        "id": "6d5d0645-e928-4810-a477-340e9e482d98"
      },
      "source": [
        "#### 8️⃣ Checking for Subsets\n",
        "##### The top scorers are a subset of the competition participants. Check if one set is a subset of the other.\n",
        "**top_scorers = {\"Charlie\", \"Eve\"}**\n"
      ]
    },
    {
      "cell_type": "code",
      "execution_count": 15,
      "id": "b1547d26-c8d4-4f9f-891b-cb9e2dfdf886",
      "metadata": {
        "id": "b1547d26-c8d4-4f9f-891b-cb9e2dfdf886",
        "outputId": "050ca412-95d4-4a0a-9c53-06ab9c46d5f5",
        "colab": {
          "base_uri": "https://localhost:8080/"
        }
      },
      "outputs": [
        {
          "output_type": "stream",
          "name": "stdout",
          "text": [
            "True\n"
          ]
        }
      ],
      "source": [
        "a = {'Eve', 'Charlie', 'Alice', 'Bob', 'David'}\n",
        "b = {'Charlie', 'Eve'}\n",
        "c = b.issubset(a)\n",
        "print(c)\n"
      ]
    },
    {
      "cell_type": "markdown",
      "id": "69d3c1c6-6902-4336-8324-8d15bd36d037",
      "metadata": {
        "id": "69d3c1c6-6902-4336-8324-8d15bd36d037"
      },
      "source": [
        "#### 9️⃣ Checking for Disjoint Sets\n",
        "##### The judges should have no overlap with the participants. Verify if these two sets are disjoint.\n",
        "**judges = {\"Mr. Smith\", \"Ms. Johnson\"}**\n"
      ]
    },
    {
      "cell_type": "code",
      "execution_count": 14,
      "id": "beddd6c1-5d06-4f4d-b835-2dffd0119386",
      "metadata": {
        "id": "beddd6c1-5d06-4f4d-b835-2dffd0119386",
        "outputId": "74f1a5b6-77aa-489e-eacb-949765a12047",
        "colab": {
          "base_uri": "https://localhost:8080/"
        }
      },
      "outputs": [
        {
          "output_type": "stream",
          "name": "stdout",
          "text": [
            "True\n"
          ]
        }
      ],
      "source": [
        "a = {'Eve', 'Charlie', 'Alice', 'Bob', 'David'}\n",
        "b = {\"Mr. Smith\", \"Ms. Johnson\"}\n",
        "c = a.isdisjoint(b)\n",
        "print(c)"
      ]
    },
    {
      "cell_type": "markdown",
      "id": "2ff43e0b-3a8c-4ca3-ab4b-91bda51184d4",
      "metadata": {
        "id": "2ff43e0b-3a8c-4ca3-ab4b-91bda51184d4"
      },
      "source": [
        "#### 🔟 Finding Students in One Event but Not the Other\n",
        "##### Find students who participated in the AI challenge but not in the coding competition.\n"
      ]
    },
    {
      "cell_type": "code",
      "execution_count": 16,
      "id": "49b3b8eb-bcf0-4b01-a52d-b5e5e9918feb",
      "metadata": {
        "id": "49b3b8eb-bcf0-4b01-a52d-b5e5e9918feb",
        "outputId": "b1e2bfda-bb29-44d3-8a64-8301d7e3c5ef",
        "colab": {
          "base_uri": "https://localhost:8080/"
        }
      },
      "outputs": [
        {
          "output_type": "stream",
          "name": "stdout",
          "text": [
            "{'Frank', 'Grace'}\n"
          ]
        }
      ],
      "source": [
        "coding_competition = {\"Alice\", \"Charlie\", \"David\", \"Eve\"}\n",
        "ai_challenge = {\"Charlie\", \"David\", \"Frank\", \"Grace\"}\n",
        "a = ai_challenge.difference(coding_competition)\n",
        "print(a)"
      ]
    },
    {
      "cell_type": "markdown",
      "id": "dbd54f99-a463-4194-a60c-cc4e1a10edee",
      "metadata": {
        "id": "dbd54f99-a463-4194-a60c-cc4e1a10edee"
      },
      "source": [
        "#### 1️⃣1️⃣ Copying a Set\n",
        "##### Create a copy of the participants set and modify it without changing the original.\n"
      ]
    },
    {
      "cell_type": "code",
      "execution_count": 17,
      "id": "bdbd29c1-8663-4cbc-8f26-42fbbdf3beb7",
      "metadata": {
        "id": "bdbd29c1-8663-4cbc-8f26-42fbbdf3beb7",
        "outputId": "fa6b5bb0-4fec-4955-82fb-7796aa2295f9",
        "colab": {
          "base_uri": "https://localhost:8080/"
        }
      },
      "outputs": [
        {
          "output_type": "stream",
          "name": "stdout",
          "text": [
            "{'Alice', 'Bob', 'Eve', 'Charlie', 'David'}\n"
          ]
        }
      ],
      "source": [
        "a = {'Eve', 'Charlie', 'Alice', 'Bob', 'David'}\n",
        "b = a.copy()\n",
        "print(b)"
      ]
    },
    {
      "cell_type": "markdown",
      "id": "a39f3a2f-b6b7-45be-ad74-8ae55f700f4e",
      "metadata": {
        "id": "a39f3a2f-b6b7-45be-ad74-8ae55f700f4e"
      },
      "source": [
        "#### 1️⃣2️⃣ Clearing the Participant List\n",
        "##### After recording results, clear the participants set without deleting the variable.\n"
      ]
    },
    {
      "cell_type": "code",
      "execution_count": 18,
      "id": "f0f7b870-8476-4118-82d8-92b2bc54c98b",
      "metadata": {
        "id": "f0f7b870-8476-4118-82d8-92b2bc54c98b",
        "outputId": "30b1e63f-0731-4579-dde8-ba2942c03041",
        "colab": {
          "base_uri": "https://localhost:8080/"
        }
      },
      "outputs": [
        {
          "output_type": "stream",
          "name": "stdout",
          "text": [
            "set()\n"
          ]
        }
      ],
      "source": [
        "a = {'Eve', 'Charlie', 'Alice', 'Bob', 'David'}\n",
        "a.clear()\n",
        "print(a)"
      ]
    },
    {
      "cell_type": "markdown",
      "id": "5edbb5d4-b6fc-49bf-a117-ee653510a9b7",
      "metadata": {
        "id": "5edbb5d4-b6fc-49bf-a117-ee653510a9b7"
      },
      "source": [
        "#### 1️⃣3️⃣ Converting a Set Back to a List\n",
        "##### Convert the participants set back into a list for further processing.\n"
      ]
    },
    {
      "cell_type": "code",
      "execution_count": 19,
      "id": "9197b544-6cca-45a8-b40f-7bf3dc423768",
      "metadata": {
        "id": "9197b544-6cca-45a8-b40f-7bf3dc423768",
        "outputId": "3d7fa892-b695-436a-b5f0-2290a7a670d4",
        "colab": {
          "base_uri": "https://localhost:8080/"
        }
      },
      "outputs": [
        {
          "output_type": "stream",
          "name": "stdout",
          "text": [
            "['Alice', 'Bob', 'Eve', 'Charlie', 'David']\n"
          ]
        }
      ],
      "source": [
        "a = {'Eve', 'Charlie', 'Alice', 'Bob', 'David'}\n",
        "b = list(set(a))\n",
        "print(b)"
      ]
    },
    {
      "cell_type": "markdown",
      "id": "5ff8a48e-14f0-4688-8df9-aa1979067d21",
      "metadata": {
        "id": "5ff8a48e-14f0-4688-8df9-aa1979067d21"
      },
      "source": [
        "#### 1️⃣4️⃣ Set Length\n",
        "##### Find out how many unique students participated in the coding competition.\n"
      ]
    },
    {
      "cell_type": "code",
      "execution_count": 20,
      "id": "9bc50829-b901-40f7-977c-ccea12ca7ef6",
      "metadata": {
        "id": "9bc50829-b901-40f7-977c-ccea12ca7ef6",
        "outputId": "f0a687d6-1bb9-47b9-e47b-22e74c527b25",
        "colab": {
          "base_uri": "https://localhost:8080/"
        }
      },
      "outputs": [
        {
          "output_type": "stream",
          "name": "stdout",
          "text": [
            "5\n"
          ]
        }
      ],
      "source": [
        "a = {'Eve', 'Charlie', 'Alice', 'Bob', 'David'}\n",
        "b = len(a)\n",
        "print(b)"
      ]
    },
    {
      "cell_type": "markdown",
      "id": "73adcd82-6752-4057-a219-d5ca7276c3ba",
      "metadata": {
        "id": "73adcd82-6752-4057-a219-d5ca7276c3ba"
      },
      "source": [
        "#### 1️⃣5️⃣ Set Operations in a Single Line\n",
        "##### Write a one-liner to:\n",
        "**Find students who participated in both competitions.**\n",
        "\n",
        "**Find students who were only in one competition.**\n"
      ]
    },
    {
      "cell_type": "code",
      "execution_count": 21,
      "id": "6e7ea745-5207-4b49-a5dc-03079b89730b",
      "metadata": {
        "id": "6e7ea745-5207-4b49-a5dc-03079b89730b",
        "outputId": "a87420af-fb98-4caf-c8c8-ca2faa286b19",
        "colab": {
          "base_uri": "https://localhost:8080/"
        }
      },
      "outputs": [
        {
          "output_type": "stream",
          "name": "stdout",
          "text": [
            "{'Alice', 'Eve'}\n"
          ]
        }
      ],
      "source": [
        "a = {\"Alice\", \"Charlie\", \"David\", \"Eve\"}\n",
        "b = {\"Charlie\", \"David\", \"Frank\", \"Grace\"}\n",
        "c = a.difference(b)\n",
        "print(c)\n"
      ]
    },
    {
      "cell_type": "markdown",
      "id": "7beb0bcb-a30a-484a-94e8-c770dbf12977",
      "metadata": {
        "id": "7beb0bcb-a30a-484a-94e8-c770dbf12977"
      },
      "source": [
        "# 🏆 Story Conclusion\n",
        "## After solving these Python set challenges, the Tech Club successfully cleans up the participant data and ensures fair competition results! 🎉"
      ]
    },
    {
      "cell_type": "markdown",
      "id": "5ef4d817-a401-4459-a289-d021817b0b0a",
      "metadata": {
        "id": "5ef4d817-a401-4459-a289-d021817b0b0a"
      },
      "source": [
        "**(c) Rahul Tiwari**"
      ]
    }
  ],
  "metadata": {
    "kernelspec": {
      "display_name": "Python 3 (ipykernel)",
      "language": "python",
      "name": "python3"
    },
    "language_info": {
      "codemirror_mode": {
        "name": "ipython",
        "version": 3
      },
      "file_extension": ".py",
      "mimetype": "text/x-python",
      "name": "python",
      "nbconvert_exporter": "python",
      "pygments_lexer": "ipython3",
      "version": "3.12.4"
    },
    "colab": {
      "provenance": [],
      "include_colab_link": true
    }
  },
  "nbformat": 4,
  "nbformat_minor": 5
}