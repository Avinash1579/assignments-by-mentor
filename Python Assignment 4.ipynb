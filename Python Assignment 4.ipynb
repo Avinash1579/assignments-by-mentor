{
  "cells": [
    {
      "cell_type": "markdown",
      "metadata": {
        "id": "view-in-github",
        "colab_type": "text"
      },
      "source": [
        "<a href=\"https://colab.research.google.com/github/Avinash1579/assignments-by-mentor/blob/main/Python%20Assignment%204.ipynb\" target=\"_parent\"><img src=\"https://colab.research.google.com/assets/colab-badge.svg\" alt=\"Open In Colab\"/></a>"
      ]
    },
    {
      "cell_type": "markdown",
      "id": "51f3bb8a-ca5f-4bb4-bc64-6aa4c6a9ece7",
      "metadata": {
        "id": "51f3bb8a-ca5f-4bb4-bc64-6aa4c6a9ece7"
      },
      "source": [
        "📖 Story Continuation: The Tuple Team Assignments!\n",
        "\n",
        "With the student list restored, it's time to form teams for the competition! The Tech Club must use Tuples to assign students into teams, ensuring each team has exactly two members.\n",
        "\n",
        "🔢 Python Tuple Challenges\n",
        "\n"
      ]
    },
    {
      "cell_type": "markdown",
      "id": "cae1160e-bc4c-4a7b-b91c-a6660187d71a",
      "metadata": {
        "id": "cae1160e-bc4c-4a7b-b91c-a6660187d71a"
      },
      "source": [
        "1️⃣ Create a tuple named team_1 with the first two students from the student list.\n",
        "a = \"Liam, Emma, Olivia, Noah, Sophia\"\n",
        "b = a. split(\",\")\n",
        "\n",
        "c = tuple(b[0:1])\n",
        "\n",
        "print(\"tuple\", c)\n",
        "\n"
      ]
    },
    {
      "cell_type": "code",
      "source": [
        "a = \"Liam, Emma, Olivia, Noah, Sophia\"\n",
        "b = a. split(\",\")\n",
        "\n",
        "c = tuple(b[0:2])\n",
        "\n",
        "print(\"tuple\", c)"
      ],
      "metadata": {
        "id": "IV85NRAXIN5z",
        "outputId": "58e3e199-641a-4328-ec2f-9097063f78b2",
        "colab": {
          "base_uri": "https://localhost:8080/"
        }
      },
      "id": "IV85NRAXIN5z",
      "execution_count": 2,
      "outputs": [
        {
          "output_type": "stream",
          "name": "stdout",
          "text": [
            "tuple ('Liam', ' Emma')\n"
          ]
        }
      ]
    },
    {
      "cell_type": "markdown",
      "id": "d11d30fb-ccef-4848-9465-13adcaab93c8",
      "metadata": {
        "id": "d11d30fb-ccef-4848-9465-13adcaab93c8"
      },
      "source": [
        "2️⃣ Tuples are immutable! Try changing the second student's name in team_1 and note the error message.\n",
        "\n",
        "# Your code here\n",
        "\n"
      ]
    },
    {
      "cell_type": "code",
      "source": [
        "a = ('Liam', ' Emma')\n",
        "a[1] = \"laddu\"\n",
        "print(\"tuple:\", a)"
      ],
      "metadata": {
        "id": "ZNz3p9zFIWMn",
        "outputId": "01aa4cd0-7ebf-4eaa-fc9c-b8386aa2beef",
        "colab": {
          "base_uri": "https://localhost:8080/",
          "height": 176
        }
      },
      "id": "ZNz3p9zFIWMn",
      "execution_count": 6,
      "outputs": [
        {
          "output_type": "error",
          "ename": "TypeError",
          "evalue": "'tuple' object does not support item assignment",
          "traceback": [
            "\u001b[0;31m---------------------------------------------------------------------------\u001b[0m",
            "\u001b[0;31mTypeError\u001b[0m                                 Traceback (most recent call last)",
            "\u001b[0;32m<ipython-input-6-da7de6dd5385>\u001b[0m in \u001b[0;36m<cell line: 0>\u001b[0;34m()\u001b[0m\n\u001b[1;32m      1\u001b[0m \u001b[0ma\u001b[0m \u001b[0;34m=\u001b[0m \u001b[0;34m(\u001b[0m\u001b[0;34m'Liam'\u001b[0m\u001b[0;34m,\u001b[0m \u001b[0;34m' Emma'\u001b[0m\u001b[0;34m)\u001b[0m\u001b[0;34m\u001b[0m\u001b[0;34m\u001b[0m\u001b[0m\n\u001b[0;32m----> 2\u001b[0;31m \u001b[0ma\u001b[0m\u001b[0;34m[\u001b[0m\u001b[0;36m1\u001b[0m\u001b[0;34m]\u001b[0m \u001b[0;34m=\u001b[0m \u001b[0;34m\"laddu\"\u001b[0m\u001b[0;34m\u001b[0m\u001b[0;34m\u001b[0m\u001b[0m\n\u001b[0m\u001b[1;32m      3\u001b[0m \u001b[0mprint\u001b[0m\u001b[0;34m(\u001b[0m\u001b[0;34m\"tuple:\"\u001b[0m\u001b[0;34m,\u001b[0m \u001b[0ma\u001b[0m\u001b[0;34m)\u001b[0m\u001b[0;34m\u001b[0m\u001b[0;34m\u001b[0m\u001b[0m\n",
            "\u001b[0;31mTypeError\u001b[0m: 'tuple' object does not support item assignment"
          ]
        }
      ]
    },
    {
      "cell_type": "markdown",
      "id": "ac06be47-f35a-4627-9d34-0a68eeff5cbb",
      "metadata": {
        "id": "ac06be47-f35a-4627-9d34-0a68eeff5cbb"
      },
      "source": [
        "3️⃣ Convert the team_1 tuple into a list, change the second student's name, and convert it back to a tuple.\n",
        "\n",
        "# Your code here\n"
      ]
    },
    {
      "cell_type": "code",
      "source": [
        "a = ('Liam', ' Emma')\n",
        "\n",
        "b = list(a)\n",
        "b[1] = \"laddu\"\n",
        "\n",
        "c = tuple(b)\n",
        "\n",
        "print(\"tuple\", c)"
      ],
      "metadata": {
        "id": "9qAb91MqIxII",
        "outputId": "ee2c99f7-50a1-4492-980d-448effb9aff8",
        "colab": {
          "base_uri": "https://localhost:8080/"
        }
      },
      "id": "9qAb91MqIxII",
      "execution_count": 7,
      "outputs": [
        {
          "output_type": "stream",
          "name": "stdout",
          "text": [
            "tuple ('Liam', 'laddu')\n"
          ]
        }
      ]
    },
    {
      "cell_type": "markdown",
      "id": "58163cd3-c3ee-4ab5-b3da-33fee9a9144a",
      "metadata": {
        "id": "58163cd3-c3ee-4ab5-b3da-33fee9a9144a"
      },
      "source": [
        "\n",
        "4️⃣ Create a tuple named all_teams that contains three different teams, each as a tuple.\n",
        "\n",
        "# Your code here\n",
        "\n"
      ]
    },
    {
      "cell_type": "code",
      "source": [
        "a = (\"Liam\", \"Emma\", \"Olivia\", \"Noah\", \"Sophia\", \"laddu\")\n",
        "\n",
        "b = a[0:2]\n",
        "c = a[2:4]\n",
        "d = a[4:6]\n",
        "\n",
        "e = (b, c, d)\n",
        "\n",
        "print(\"all teams\", e)"
      ],
      "metadata": {
        "id": "qgq5OLCVJfYN",
        "outputId": "08ff3e4d-3a1b-47c2-c1c5-d59fca40a15e",
        "colab": {
          "base_uri": "https://localhost:8080/"
        }
      },
      "id": "qgq5OLCVJfYN",
      "execution_count": 10,
      "outputs": [
        {
          "output_type": "stream",
          "name": "stdout",
          "text": [
            "all teams (('Liam', 'Emma'), ('Olivia', 'Noah'), ('Sophia', 'laddu'))\n"
          ]
        }
      ]
    },
    {
      "cell_type": "markdown",
      "id": "81bdcb6b-b6d3-40f3-8561-ef39517977c3",
      "metadata": {
        "id": "81bdcb6b-b6d3-40f3-8561-ef39517977c3"
      },
      "source": [
        "#### 5️⃣ Use tuple unpacking to extract the student names from team_1 into separate variables and print them."
      ]
    },
    {
      "cell_type": "markdown",
      "id": "77fa7c69-f9b5-4c85-a122-ffcecee57018",
      "metadata": {
        "id": "77fa7c69-f9b5-4c85-a122-ffcecee57018"
      },
      "source": [
        "# 🏆 Story Conclusion:\n",
        "\n",
        "### With teams successfully assigned using tuples, the Tech Club is now fully prepared for the competition! But another challenge awaits—handling competition scores using dictionaries! 🚀"
      ]
    },
    {
      "cell_type": "markdown",
      "id": "9674d6ce-cf10-40a1-90f8-8683b42c64a8",
      "metadata": {
        "id": "9674d6ce-cf10-40a1-90f8-8683b42c64a8"
      },
      "source": [
        "# 🎉 MISSION COMPLETE!\n",
        "## Great job, Alex! You have successfully helped Greenfield High using Python! 🚀💡"
      ]
    },
    {
      "cell_type": "markdown",
      "id": "7a0e4833-5003-4c90-8d29-b74ac96a9910",
      "metadata": {
        "id": "7a0e4833-5003-4c90-8d29-b74ac96a9910"
      },
      "source": [
        "**(c) Rahul Tiwari**"
      ]
    }
  ],
  "metadata": {
    "kernelspec": {
      "display_name": "Python 3 (ipykernel)",
      "language": "python",
      "name": "python3"
    },
    "language_info": {
      "codemirror_mode": {
        "name": "ipython",
        "version": 3
      },
      "file_extension": ".py",
      "mimetype": "text/x-python",
      "name": "python",
      "nbconvert_exporter": "python",
      "pygments_lexer": "ipython3",
      "version": "3.12.4"
    },
    "colab": {
      "provenance": [],
      "include_colab_link": true
    }
  },
  "nbformat": 4,
  "nbformat_minor": 5
}